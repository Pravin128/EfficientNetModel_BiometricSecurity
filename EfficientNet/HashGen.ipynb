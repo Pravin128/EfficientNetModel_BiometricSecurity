{
 "cells": [
  {
   "cell_type": "code",
   "execution_count": 4,
   "id": "2515b4e0",
   "metadata": {},
   "outputs": [
    {
     "ename": "ModuleNotFoundError",
     "evalue": "No module named 'Crypto'",
     "output_type": "error",
     "traceback": [
      "\u001b[1;31m---------------------------------------------------------------------------\u001b[0m",
      "\u001b[1;31mModuleNotFoundError\u001b[0m                       Traceback (most recent call last)",
      "Cell \u001b[1;32mIn[4], line 4\u001b[0m\n\u001b[0;32m      2\u001b[0m \u001b[38;5;28;01mimport\u001b[39;00m \u001b[38;5;21;01mhashlib\u001b[39;00m\n\u001b[0;32m      3\u001b[0m \u001b[38;5;28;01mfrom\u001b[39;00m \u001b[38;5;21;01mblake3\u001b[39;00m \u001b[38;5;28;01mimport\u001b[39;00m blake3\n\u001b[1;32m----> 4\u001b[0m \u001b[38;5;28;01mfrom\u001b[39;00m \u001b[38;5;21;01mCrypto\u001b[39;00m\u001b[38;5;21;01m.\u001b[39;00m\u001b[38;5;21;01mHash\u001b[39;00m \u001b[38;5;28;01mimport\u001b[39;00m keccak\n\u001b[0;32m      5\u001b[0m \u001b[38;5;28;01mfrom\u001b[39;00m \u001b[38;5;21;01mPIL\u001b[39;00m \u001b[38;5;28;01mimport\u001b[39;00m Image\n",
      "\u001b[1;31mModuleNotFoundError\u001b[0m: No module named 'Crypto'"
     ]
    }
   ],
   "source": [
    "import os\n",
    "import hashlib\n",
    "from blake3 import blake3\n",
    "from Crypto.Hash import keccak\n",
    "from PIL import Image\n"
   ]
  },
  {
   "cell_type": "code",
   "execution_count": null,
   "id": "53aed376",
   "metadata": {},
   "outputs": [],
   "source": [
    "!pip install pycryptodome\n"
   ]
  },
  {
   "cell_type": "code",
   "execution_count": null,
   "id": "bf9719fb",
   "metadata": {},
   "outputs": [],
   "source": [
    "def calculate_hashes(image_path):\n",
    "    \"\"\"Calculate SHA-256, BLAKE3, and SHA3-256 (Keccak) hashes for an image file.\"\"\"\n",
    "    try:\n",
    "        # Open and convert the image\n",
    "        with Image.open(image_path) as img:\n",
    "            # Convert to standard format to ensure consistent hashing\n",
    "            img = img.convert('RGB')\n",
    "            \n",
    "            # Save image to bytes for hashing\n",
    "            img_bytes = io.BytesIO()\n",
    "            img.save(img_bytes, format='PNG')\n",
    "            data = img_bytes.getvalue()\n",
    "            \n",
    "            # Calculate SHA-256 hash\n",
    "            sha256_hash = hashlib.sha256(data).hexdigest()\n",
    "            \n",
    "            # Calculate BLAKE3 hash\n",
    "            blake3_hash = blake3.blake3(data).hexdigest()\n",
    "            \n",
    "            # Calculate SHA3-256 (Keccak variant) hash using hashlib\n",
    "            # Note: hashlib.sha3_256 implements Keccak finalized as SHA-3\n",
    "            sha3_hash = hashlib.sha3_256(data).hexdigest()\n",
    "            \n",
    "            return {\n",
    "                'file': os.path.basename(image_path),\n",
    "                'sha256': sha256_hash,\n",
    "                'blake3': blake3_hash,\n",
    "                'sha3_256': sha3_hash\n",
    "            }\n",
    "    except Exception as e:\n",
    "        return {\n",
    "            'file': os.path.basename(image_path),\n",
    "            'error': str(e)\n",
    "        }\n"
   ]
  },
  {
   "cell_type": "code",
   "execution_count": null,
   "id": "e07ce10b",
   "metadata": {},
   "outputs": [],
   "source": [
    "def process_directory(directory_path):\n",
    "    \"\"\"Process all image files in a directory.\"\"\"\n",
    "    results = []\n",
    "    \n",
    "    # Accepted image file extensions\n",
    "    image_extensions = ['.jpg', '.jpeg', '.png', '.bmp', '.tiff', '.gif']\n",
    "    \n",
    "    for filename in os.listdir(directory_path):\n",
    "        file_path = os.path.join(directory_path, filename)\n",
    "        if os.path.isfile(file_path) and os.path.splitext(filename)[1].lower() in image_extensions:\n",
    "            results.append(calculate_hashes(file_path))\n",
    "    \n",
    "    return results"
   ]
  },
  {
   "cell_type": "code",
   "execution_count": null,
   "id": "07d3ba59",
   "metadata": {},
   "outputs": [],
   "source": [
    "def main():\n",
    "    parser = argparse.ArgumentParser(description='Calculate cryptographic hashes of biometric images.')\n",
    "    group = parser.add_mutually_exclusive_group(required=True)\n",
    "    group.add_argument('-f', '--file', help='Path to a single image file')\n",
    "    group.add_argument('-d', '--directory', help='Path to a directory containing image files')\n",
    "    parser.add_argument('-o', '--output', help='Output results to a text file')\n",
    "    \n",
    "    args = parser.parse_args()\n",
    "    \n",
    "    if args.file:\n",
    "        results = [calculate_hashes(args.file)]\n",
    "    else:\n",
    "        results = process_directory(args.directory)\n",
    "    \n",
    "    # Display and/or save results\n",
    "    output_text = \"\"\n",
    "    for result in results:\n",
    "        if 'error' in result:\n",
    "            output_line = f\"Error processing {result['file']}: {result['error']}\"\n",
    "            print(output_line)\n",
    "            output_text += output_line + \"\\n\"\n",
    "        else:\n",
    "            output_line = f\"\\nFile: {result['file']}\"\n",
    "            print(output_line)\n",
    "            output_text += output_line + \"\\n\"\n",
    "            \n",
    "            output_line = f\"SHA-256:    {result['sha256']}\"\n",
    "            print(output_line)\n",
    "            output_text += output_line + \"\\n\"\n",
    "            \n",
    "            output_line = f\"BLAKE3:     {result['blake3']}\"\n",
    "            print(output_line)\n",
    "            output_text += output_line + \"\\n\"\n",
    "            \n",
    "            output_line = f\"SHA3-256:   {result['sha3_256']}\"\n",
    "            print(output_line)\n",
    "            output_text += output_line + \"\\n\"\n",
    "    \n",
    "    if args.output:\n",
    "        with open(args.output, 'w') as f:\n",
    "            f.write(output_text)\n",
    "        print(f\"\\nResults saved to {args.output}\")\n",
    "\n"
   ]
  },
  {
   "cell_type": "code",
   "execution_count": null,
   "id": "8445e87c",
   "metadata": {},
   "outputs": [],
   "source": [
    "if __name__ == \"__main__\":\n",
    "    main()"
   ]
  }
 ],
 "metadata": {
  "kernelspec": {
   "display_name": "Python 3",
   "language": "python",
   "name": "python3"
  },
  "language_info": {
   "codemirror_mode": {
    "name": "ipython",
    "version": 3
   },
   "file_extension": ".py",
   "mimetype": "text/x-python",
   "name": "python",
   "nbconvert_exporter": "python",
   "pygments_lexer": "ipython3",
   "version": "3.12.9"
  }
 },
 "nbformat": 4,
 "nbformat_minor": 5
}
